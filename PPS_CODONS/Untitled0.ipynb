{
 "metadata": {
  "name": "",
  "signature": "sha256:126500b8cf428198c1cf30069bf18ba9586b82f58331401ce433d2f370da6a20"
 },
 "nbformat": 3,
 "nbformat_minor": 0,
 "worksheets": [
  {
   "cells": [
    {
     "cell_type": "markdown",
     "metadata": {},
     "source": [
      "## Posterior predictive simulation for codon models in MrBayes"
     ]
    },
    {
     "cell_type": "code",
     "collapsed": false,
     "input": [
      "To conduct "
     ],
     "language": "python",
     "metadata": {},
     "outputs": []
    }
   ],
   "metadata": {}
  }
 ]
}