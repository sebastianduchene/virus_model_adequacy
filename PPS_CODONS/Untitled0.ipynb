{
 "metadata": {
  "name": "",
  "signature": "sha256:7961427dbc03bd46203c4ba1c7ab808365d8ca4a26889915b66c8437a71bd350"
 },
 "nbformat": 3,
 "nbformat_minor": 0,
 "worksheets": [
  {
   "cells": [
    {
     "cell_type": "markdown",
     "metadata": {},
     "source": [
      "## Posterior predictive simulation for codon models in MrBayes"
     ]
    },
    {
     "cell_type": "markdown",
     "metadata": {},
     "source": [
      "To conduct these analyses make sure you have python with the dependencies listed [here](https://github.com/sebastianduchene/virus_model_adequacy/tree/master/PPS_CODONS) installed"
     ]
    },
    {
     "cell_type": "code",
     "collapsed": false,
     "input": [
      "Load the dependencies as follows. Note that it is also necessary to use a script that contains a set of functions to simulate\n",
      "the data. These"
     ],
     "language": "python",
     "metadata": {},
     "outputs": []
    }
   ],
   "metadata": {}
  }
 ]
}