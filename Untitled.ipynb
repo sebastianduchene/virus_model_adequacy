{
 "cells": [
  {
   "cell_type": "code",
   "execution_count": 4,
   "metadata": {
    "collapsed": false
   },
   "outputs": [],
   "source": [
    "library(ape)\n",
    "library(phangorn)"
   ]
  },
  {
   "cell_type": "code",
   "execution_count": 65,
   "metadata": {
    "collapsed": false
   },
   "outputs": [],
   "source": [
    "concat_list <- function(c_list){\n",
    "    if(length(c_list) ==1 ){\n",
    "        return(c_list)\n",
    "    }else if(length(c_list) == 2){\n",
    "        return(cbind(c_list[[1]], c_list[[2]]))\n",
    "    }else{\n",
    "        return(c(c_list[[1]], concat_list(c_list[-1])))\n",
    "    }\n",
    "}"
   ]
  },
  {
   "cell_type": "code",
   "execution_count": null,
   "metadata": {
    "collapsed": true
   },
   "outputs": [],
   "source": [
    "## SImulate 10 data sets using GTR"
   ]
  },
  {
   "cell_type": "code",
   "execution_count": 168,
   "metadata": {
    "collapsed": false
   },
   "outputs": [
    {
     "name": "stderr",
     "output_type": "stream",
     "text": [
      "Warning message:\n",
      ": I unrooted the tree"
     ]
    },
    {
     "name": "stdout",
     "output_type": "stream",
     "text": [
      "optimize edge weights:  -6428.436 --> -6416.776 \n",
      "optimize edge weights:  -6416.776 --> -6416.468 \n",
      "optimize edge weights:  -6416.468 --> -6416.263 \n",
      "optimize edge weights:  -6416.263 --> -6416.121 \n",
      "optimize edge weights:  -6416.121 --> -6416.022 \n",
      "optimize edge weights:  -6416.022 --> -6416.016 \n",
      "optimize edge weights:  -6416.016 --> -6416.015 \n",
      "optimize edge weights:  -6416.015 --> -6416.015 \n",
      "optimize edge weights:  -6416.015 --> -6416.015 \n"
     ]
    },
    {
     "name": "stderr",
     "output_type": "stream",
     "text": [
      "Warning message:\n",
      ": I unrooted the tree"
     ]
    },
    {
     "name": "stdout",
     "output_type": "stream",
     "text": [
      "optimize edge weights:  -6428.436 --> -6416.776 \n",
      "optimize base frequencies:  -6416.776 --> -6416.46 \n",
      "optimize rate matrix:  -6416.46 --> -6415.3 \n",
      "optimize edge weights:  -6415.3 --> -6414.918 \n",
      "optimize topology:  -6414.918 --> -6414.78 \n",
      "0 \n",
      "optimize base frequencies:  -6414.78 --> -6414.765 \n",
      "optimize rate matrix:  -6414.765 --> -6414.76 \n",
      "optimize edge weights:  -6414.76 --> -6414.59 \n",
      "optimize base frequencies:  -6414.59 --> -6414.589 \n",
      "optimize rate matrix:  -6414.589 --> -6414.589 \n",
      "optimize edge weights:  -6414.589 --> -6414.469 \n",
      "optimize base frequencies:  -6414.469 --> -6414.469 \n",
      "optimize rate matrix:  -6414.469 --> -6414.469 \n",
      "optimize edge weights:  -6414.469 --> -6414.422 \n",
      "optimize base frequencies:  -6414.422 --> -6414.422 \n",
      "optimize rate matrix:  -6414.422 --> -6414.422 \n",
      "optimize edge weights:  -6414.422 --> -6414.42 \n",
      "optimize base frequencies:  -6414.42 --> -6414.42 \n",
      "optimize rate matrix:  -6414.42 --> -6414.42 \n",
      "optimize edge weights:  -6414.42 --> -6414.42 \n",
      "optimize base frequencies:  -6414.42 --> -6414.42 \n",
      "optimize rate matrix:  -6414.42 --> -6414.42 \n",
      "optimize edge weights:  -6414.42 --> -6414.42 \n"
     ]
    },
    {
     "name": "stderr",
     "output_type": "stream",
     "text": [
      "Warning message:\n",
      ": I unrooted the tree"
     ]
    },
    {
     "name": "stdout",
     "output_type": "stream",
     "text": [
      "optimize edge weights:  -6579.994 --> -6462.655 \n",
      "optimize base frequencies:  -6462.655 --> -6462.354 \n",
      "optimize rate matrix:  -6462.354 --> -6461.597 \n",
      "optimize shape parameter:  -6461.597 --> -6458.51 \n",
      "optimize edge weights:  -6458.51 --> -6454.661 \n",
      "optimize topology:  -6454.661 --> -6454.524 \n",
      "0 \n",
      "optimize base frequencies:  -6454.524 --> -6454.512 \n",
      "optimize rate matrix:  -6454.512 --> -6454.5 \n",
      "optimize shape parameter:  -6454.5 --> -6450.869 \n",
      "optimize edge weights:  -6450.869 --> -6446.979 \n",
      "optimize base frequencies:  -6446.979 --> -6446.978 \n",
      "optimize rate matrix:  -6446.978 --> -6446.962 \n",
      "optimize shape parameter:  -6446.962 --> -6443.059 \n",
      "optimize edge weights:  -6443.059 --> -6439.228 \n",
      "optimize base frequencies:  -6439.228 --> -6439.227 \n",
      "optimize rate matrix:  -6439.227 --> -6439.215 \n",
      "optimize shape parameter:  -6439.215 --> -6435.402 \n",
      "optimize edge weights:  -6435.402 --> -6431.8 \n",
      "optimize base frequencies:  -6431.8 --> -6431.799 \n",
      "optimize rate matrix:  -6431.799 --> -6431.792 \n",
      "optimize shape parameter:  -6431.792 --> -6428.445 \n",
      "optimize edge weights:  -6428.445 --> -6425.503 \n",
      "optimize base frequencies:  -6425.503 --> -6425.503 \n",
      "optimize rate matrix:  -6425.503 --> -6425.499 \n",
      "optimize shape parameter:  -6425.499 --> -6422.951 \n",
      "optimize edge weights:  -6422.951 --> -6420.858 \n",
      "optimize base frequencies:  -6420.858 --> -6420.858 \n",
      "optimize rate matrix:  -6420.858 --> -6420.855 \n",
      "optimize shape parameter:  -6420.855 --> -6419.17 \n",
      "optimize edge weights:  -6419.17 --> -6417.856 \n",
      "optimize base frequencies:  -6417.856 --> -6417.855 \n",
      "optimize rate matrix:  -6417.855 --> -6417.852 \n",
      "optimize shape parameter:  -6417.852 --> -6416.913 \n",
      "optimize edge weights:  -6416.913 --> -6416.173 \n",
      "optimize base frequencies:  -6416.173 --> -6416.172 \n",
      "optimize rate matrix:  -6416.172 --> -6416.17 \n",
      "optimize shape parameter:  -6416.17 --> -6415.719 \n",
      "optimize edge weights:  -6415.719 --> -6415.292 \n",
      "optimize base frequencies:  -6415.292 --> -6415.292 \n",
      "optimize rate matrix:  -6415.292 --> -6415.291 \n",
      "optimize shape parameter:  -6415.291 --> -6415.091 \n",
      "optimize edge weights:  -6415.091 --> -6414.809 \n"
     ]
    },
    {
     "name": "stderr",
     "output_type": "stream",
     "text": [
      "Warning message:\n",
      ": I unrooted the tree"
     ]
    },
    {
     "name": "stdout",
     "output_type": "stream",
     "text": [
      "optimize edge weights:  -6579.808 --> -6571.333 \n",
      "optimize edge weights:  -6571.333 --> -6571.186 \n",
      "optimize edge weights:  -6571.186 --> -6571.152 \n",
      "optimize edge weights:  -6571.152 --> -6571.141 \n",
      "optimize edge weights:  -6571.141 --> -6571.137 \n",
      "optimize edge weights:  -6571.137 --> -6571.135 \n",
      "optimize edge weights:  -6571.135 --> -6571.135 \n",
      "optimize edge weights:  -6571.135 --> -6571.134 \n",
      "optimize edge weights:  -6571.134 --> -6571.134 \n"
     ]
    },
    {
     "name": "stderr",
     "output_type": "stream",
     "text": [
      "Warning message:\n",
      ": I unrooted the tree"
     ]
    },
    {
     "name": "stdout",
     "output_type": "stream",
     "text": [
      "optimize edge weights:  -6579.808 --> -6571.333 \n",
      "optimize base frequencies:  -6571.333 --> -6566.908 \n",
      "optimize rate matrix:  -6566.908 --> -6565.78 \n",
      "optimize edge weights:  -6565.78 --> -6565.598 \n",
      "optimize topology:  -6565.598 --> -6564.226 \n",
      "optimize topology:  -6564.226 --> -6563.81 \n",
      "optimize topology:  -6563.81 --> -6563.789 \n",
      "3 \n",
      "optimize base frequencies:  -6563.789 --> -6563.765 \n",
      "optimize rate matrix:  -6563.765 --> -6563.69 \n",
      "optimize edge weights:  -6563.69 --> -6563.678 \n",
      "optimize topology:  -6563.678 --> -6563.676 \n",
      "0 \n",
      "optimize base frequencies:  -6563.676 --> -6563.673 \n",
      "optimize rate matrix:  -6563.673 --> -6563.673 \n",
      "optimize edge weights:  -6563.673 --> -6563.671 \n",
      "optimize base frequencies:  -6563.671 --> -6563.671 \n",
      "optimize rate matrix:  -6563.671 --> -6563.671 \n",
      "optimize edge weights:  -6563.671 --> -6563.67 \n",
      "optimize base frequencies:  -6563.67 --> -6563.67 \n",
      "optimize rate matrix:  -6563.67 --> -6563.67 \n",
      "optimize edge weights:  -6563.67 --> -6563.67 \n",
      "optimize base frequencies:  -6563.67 --> -6563.67 \n",
      "optimize rate matrix:  -6563.67 --> -6563.67 \n",
      "optimize edge weights:  -6563.67 --> -6563.67 \n",
      "optimize base frequencies:  -6563.67 --> -6563.67 \n",
      "optimize rate matrix:  -6563.67 --> -6563.67 \n",
      "optimize edge weights:  -6563.67 --> -6563.67 \n"
     ]
    },
    {
     "name": "stderr",
     "output_type": "stream",
     "text": [
      "Warning message:\n",
      ": I unrooted the tree"
     ]
    },
    {
     "name": "stdout",
     "output_type": "stream",
     "text": [
      "optimize edge weights:  -6714.244 --> -6614.722 \n",
      "optimize base frequencies:  -6614.722 --> -6610.199 \n",
      "optimize rate matrix:  -6610.199 --> -6607.816 \n",
      "optimize shape parameter:  -6607.816 --> -6603.571 \n",
      "optimize edge weights:  -6603.571 --> -6599.836 \n",
      "optimize topology:  -6599.836 --> -6599.805 \n",
      "optimize topology:  -6599.805 --> -6598.888 \n",
      "optimize topology:  -6598.888 --> -6598.41 \n",
      "6 \n",
      "optimize base frequencies:  -6598.41 --> -6598.288 \n",
      "optimize rate matrix:  -6598.288 --> -6598.246 \n",
      "optimize shape parameter:  -6598.246 --> -6594.497 \n",
      "optimize edge weights:  -6594.497 --> -6591.002 \n",
      "optimize topology:  -6591.002 --> -6591 \n",
      "optimize topology:  -6591 --> -6590.999 \n",
      "1 \n",
      "optimize base frequencies:  -6590.999 --> -6590.997 \n",
      "optimize rate matrix:  -6590.997 --> -6590.972 \n",
      "optimize shape parameter:  -6590.972 --> -6587.417 \n",
      "optimize edge weights:  -6587.417 --> -6584.103 \n",
      "optimize topology:  -6584.103 --> -6584.1 \n",
      "optimize topology:  -6584.1 --> -6584.084 \n",
      "optimize topology:  -6584.084 --> -6584.078 \n",
      "2 \n",
      "optimize base frequencies:  -6584.078 --> -6584.076 \n",
      "optimize rate matrix:  -6584.076 --> -6584.026 \n",
      "optimize shape parameter:  -6584.026 --> -6580.771 \n",
      "optimize edge weights:  -6580.771 --> -6577.795 \n",
      "optimize topology:  -6577.795 --> -6577.786 \n",
      "0 \n",
      "optimize base frequencies:  -6577.786 --> -6577.781 \n",
      "optimize rate matrix:  -6577.781 --> -6577.72 \n",
      "optimize shape parameter:  -6577.72 --> -6574.928 \n",
      "optimize edge weights:  -6574.928 --> -6572.476 \n",
      "optimize base frequencies:  -6572.476 --> -6572.468 \n",
      "optimize rate matrix:  -6572.468 --> -6572.414 \n",
      "optimize shape parameter:  -6572.414 --> -6570.275 \n",
      "optimize edge weights:  -6570.275 --> -6568.49 \n",
      "optimize base frequencies:  -6568.49 --> -6568.484 \n",
      "optimize rate matrix:  -6568.484 --> -6568.442 \n",
      "optimize shape parameter:  -6568.442 --> -6567.008 \n",
      "optimize edge weights:  -6567.008 --> -6565.881 \n",
      "optimize base frequencies:  -6565.881 --> -6565.877 \n",
      "optimize rate matrix:  -6565.877 --> -6565.851 \n",
      "optimize shape parameter:  -6565.851 --> -6565.028 \n",
      "optimize edge weights:  -6565.028 --> -6564.413 \n",
      "optimize base frequencies:  -6564.413 --> -6564.41 \n",
      "optimize rate matrix:  -6564.41 --> -6564.396 \n",
      "optimize shape parameter:  -6564.396 --> -6563.993 \n",
      "optimize edge weights:  -6563.993 --> -6563.699 \n",
      "optimize base frequencies:  -6563.699 --> -6563.698 \n",
      "optimize rate matrix:  -6563.698 --> -6563.692 \n",
      "optimize shape parameter:  -6563.692 --> -6563.519 \n",
      "optimize edge weights:  -6563.519 --> -6563.391 \n",
      "optimize base frequencies:  -6563.391 --> -6563.39 \n",
      "optimize rate matrix:  -6563.39 --> -6563.387 \n",
      "optimize shape parameter:  -6563.387 --> -6563.32 \n",
      "optimize edge weights:  -6563.32 --> -6563.266 \n",
      "optimize base frequencies:  -6563.266 --> -6563.266 \n",
      "optimize rate matrix:  -6563.266 --> -6563.265 \n",
      "optimize shape parameter:  -6563.265 --> -6563.241 \n",
      "optimize edge weights:  -6563.241 --> -6563.219 \n"
     ]
    },
    {
     "name": "stderr",
     "output_type": "stream",
     "text": [
      "Warning message:\n",
      ": I unrooted the tree"
     ]
    },
    {
     "name": "stdout",
     "output_type": "stream",
     "text": [
      "optimize edge weights:  -6367.442 --> -6361.01 \n",
      "optimize edge weights:  -6361.01 --> -6360.723 \n",
      "optimize edge weights:  -6360.723 --> -6360.703 \n",
      "optimize edge weights:  -6360.703 --> -6360.701 \n",
      "optimize edge weights:  -6360.701 --> -6360.701 \n"
     ]
    },
    {
     "name": "stderr",
     "output_type": "stream",
     "text": [
      "Warning message:\n",
      ": I unrooted the tree"
     ]
    },
    {
     "name": "stdout",
     "output_type": "stream",
     "text": [
      "optimize edge weights:  -6367.442 --> -6361.01 \n",
      "optimize base frequencies:  -6361.01 --> -6359.461 \n",
      "optimize rate matrix:  -6359.461 --> -6357.576 \n",
      "optimize edge weights:  -6357.576 --> -6357.301 \n",
      "optimize topology:  -6357.301 --> -6356.1 \n",
      "optimize topology:  -6356.1 --> -6356.083 \n",
      "1 \n",
      "optimize base frequencies:  -6356.083 --> -6355.979 \n",
      "optimize rate matrix:  -6355.979 --> -6355.949 \n",
      "optimize edge weights:  -6355.949 --> -6355.946 \n",
      "optimize topology:  -6355.946 --> -6355.946 \n",
      "0 \n",
      "optimize base frequencies:  -6355.946 --> -6355.944 \n",
      "optimize rate matrix:  -6355.944 --> -6355.944 \n",
      "optimize edge weights:  -6355.944 --> -6355.944 \n",
      "optimize base frequencies:  -6355.944 --> -6355.944 \n",
      "optimize rate matrix:  -6355.944 --> -6355.944 \n",
      "optimize edge weights:  -6355.944 --> -6355.944 \n"
     ]
    },
    {
     "name": "stderr",
     "output_type": "stream",
     "text": [
      "Warning message:\n",
      ": I unrooted the tree"
     ]
    },
    {
     "name": "stdout",
     "output_type": "stream",
     "text": [
      "optimize edge weights:  -6520.959 --> -6422.694 \n",
      "optimize base frequencies:  -6422.694 --> -6421.294 \n",
      "optimize rate matrix:  -6421.294 --> -6419.675 \n",
      "optimize shape parameter:  -6419.675 --> -6412.761 \n",
      "optimize edge weights:  -6412.761 --> -6405.773 \n",
      "optimize topology:  -6405.773 --> -6404.91 \n",
      "optimize topology:  -6404.91 --> -6404.468 \n",
      "optimize topology:  -6404.468 --> -6404.421 \n",
      "3 \n",
      "optimize base frequencies:  -6404.421 --> -6404.282 \n",
      "optimize rate matrix:  -6404.282 --> -6404.244 \n",
      "optimize shape parameter:  -6404.244 --> -6397.841 \n",
      "optimize edge weights:  -6397.841 --> -6391.544 \n",
      "optimize topology:  -6391.544 --> -6391.541 \n",
      "optimize topology:  -6391.541 --> -6391.54 \n",
      "optimize topology:  -6391.54 --> -6391.539 \n",
      "3 \n",
      "optimize base frequencies:  -6391.539 --> -6391.529 \n",
      "optimize rate matrix:  -6391.529 --> -6391.515 \n",
      "optimize shape parameter:  -6391.515 --> -6385.475 \n",
      "optimize edge weights:  -6385.475 --> -6379.948 \n",
      "optimize topology:  -6379.948 --> -6379.945 \n",
      "optimize topology:  -6379.945 --> -6379.945 \n",
      "1 \n",
      "optimize base frequencies:  -6379.945 --> -6379.942 \n",
      "optimize rate matrix:  -6379.942 --> -6379.923 \n",
      "optimize shape parameter:  -6379.923 --> -6374.864 \n",
      "optimize edge weights:  -6374.864 --> -6370.503 \n",
      "optimize topology:  -6370.503 --> -6370.5 \n",
      "optimize topology:  -6370.5 --> -6370.5 \n",
      "optimize topology:  -6370.5 --> -6370.5 \n",
      "2 \n",
      "optimize base frequencies:  -6370.5 --> -6370.498 \n",
      "optimize rate matrix:  -6370.498 --> -6370.477 \n",
      "optimize shape parameter:  -6370.477 --> -6366.716 \n",
      "optimize edge weights:  -6366.716 --> -6363.645 \n",
      "optimize topology:  -6363.645 --> -6363.644 \n",
      "optimize topology:  -6363.644 --> -6363.644 \n",
      "optimize topology:  -6363.644 --> -6363.644 \n",
      "2 \n",
      "optimize base frequencies:  -6363.644 --> -6363.643 \n",
      "optimize rate matrix:  -6363.643 --> -6363.624 \n",
      "optimize shape parameter:  -6363.624 --> -6361.152 \n",
      "optimize edge weights:  -6361.152 --> -6359.272 \n",
      "optimize topology:  -6359.272 --> -6359.271 \n",
      "optimize topology:  -6359.271 --> -6359.271 \n",
      "optimize topology:  -6359.271 --> -6359.271 \n",
      "2 \n",
      "optimize base frequencies:  -6359.271 --> -6359.27 \n",
      "optimize rate matrix:  -6359.27 --> -6359.255 \n",
      "optimize shape parameter:  -6359.255 --> -6357.875 \n",
      "optimize edge weights:  -6357.875 --> -6356.893 \n",
      "optimize topology:  -6356.893 --> -6356.886 \n",
      "0 \n",
      "optimize base frequencies:  -6356.886 --> -6356.885 \n",
      "optimize rate matrix:  -6356.885 --> -6356.876 \n",
      "optimize shape parameter:  -6356.876 --> -6356.256 \n",
      "optimize edge weights:  -6356.256 --> -6356.011 \n",
      "optimize base frequencies:  -6356.011 --> -6356.011 \n",
      "optimize rate matrix:  -6356.011 --> -6356.008 \n",
      "optimize shape parameter:  -6356.008 --> -6356.008 \n",
      "optimize edge weights:  -6356.008 --> -6356.006 \n",
      "optimize base frequencies:  -6356.006 --> -6356.006 \n",
      "optimize rate matrix:  -6356.006 --> -6356.006 \n",
      "optimize shape parameter:  -6356.006 --> -6356.006 \n",
      "optimize edge weights:  -6356.006 --> -6356.006 \n",
      "optimize base frequencies:  -6356.006 --> -6356.006 \n",
      "optimize rate matrix:  -6356.006 --> -6356.006 \n",
      "optimize shape parameter:  -6356.006 --> -6356.006 \n",
      "optimize edge weights:  -6356.006 --> -6356.006 \n"
     ]
    },
    {
     "name": "stderr",
     "output_type": "stream",
     "text": [
      "Warning message:\n",
      ": I unrooted the tree"
     ]
    },
    {
     "name": "stdout",
     "output_type": "stream",
     "text": [
      "optimize edge weights:  -6658.133 --> -6652.321 \n",
      "optimize edge weights:  -6652.321 --> -6651.479 \n",
      "optimize edge weights:  -6651.479 --> -6651.267 \n",
      "optimize edge weights:  -6651.267 --> -6651.219 \n",
      "optimize edge weights:  -6651.219 --> -6651.216 \n",
      "optimize edge weights:  -6651.216 --> -6651.216 \n",
      "optimize edge weights:  -6651.216 --> -6651.216 \n"
     ]
    },
    {
     "name": "stderr",
     "output_type": "stream",
     "text": [
      "Warning message:\n",
      ": I unrooted the tree"
     ]
    },
    {
     "name": "stdout",
     "output_type": "stream",
     "text": [
      "optimize edge weights:  -6658.133 --> -6652.321 \n",
      "optimize base frequencies:  -6652.321 --> -6651.507 \n",
      "optimize rate matrix:  -6651.507 --> -6651.273 \n",
      "optimize edge weights:  -6651.273 --> -6650.448 \n",
      "optimize topology:  -6650.448 --> -6648.947 \n",
      "optimize topology:  -6648.947 --> -6648.717 \n",
      "optimize topology:  -6648.717 --> -6648.644 \n",
      "2 \n",
      "optimize base frequencies:  -6648.644 --> -6648.638 \n",
      "optimize rate matrix:  -6648.638 --> -6648.622 \n",
      "optimize edge weights:  -6648.622 --> -6648.565 \n",
      "optimize topology:  -6648.565 --> -6648.548 \n",
      "0 \n",
      "optimize base frequencies:  -6648.548 --> -6648.548 \n",
      "optimize rate matrix:  -6648.548 --> -6648.547 \n",
      "optimize edge weights:  -6648.547 --> -6648.526 \n",
      "optimize base frequencies:  -6648.526 --> -6648.526 \n",
      "optimize rate matrix:  -6648.526 --> -6648.526 \n",
      "optimize edge weights:  -6648.526 --> -6648.511 \n",
      "optimize base frequencies:  -6648.511 --> -6648.511 \n",
      "optimize rate matrix:  -6648.511 --> -6648.511 \n",
      "optimize edge weights:  -6648.511 --> -6648.499 \n",
      "optimize base frequencies:  -6648.499 --> -6648.499 \n",
      "optimize rate matrix:  -6648.499 --> -6648.499 \n",
      "optimize edge weights:  -6648.499 --> -6648.496 \n",
      "optimize base frequencies:  -6648.496 --> -6648.496 \n",
      "optimize rate matrix:  -6648.496 --> -6648.496 \n",
      "optimize edge weights:  -6648.496 --> -6648.496 \n"
     ]
    },
    {
     "name": "stderr",
     "output_type": "stream",
     "text": [
      "Warning message:\n",
      ": I unrooted the tree"
     ]
    },
    {
     "name": "stdout",
     "output_type": "stream",
     "text": [
      "optimize edge weights:  -6790.18 --> -6676.742 \n",
      "optimize base frequencies:  -6676.742 --> -6675.939 \n",
      "optimize rate matrix:  -6675.939 --> -6674.387 \n",
      "optimize shape parameter:  -6674.387 --> -6673.555 \n",
      "optimize edge weights:  -6673.555 --> -6671.818 \n",
      "optimize topology:  -6671.818 --> -6670.885 \n",
      "optimize topology:  -6670.885 --> -6669.453 \n",
      "optimize topology:  -6669.453 --> -6668.805 \n",
      "4 \n",
      "optimize base frequencies:  -6668.805 --> -6668.746 \n",
      "optimize rate matrix:  -6668.746 --> -6668.622 \n",
      "optimize shape parameter:  -6668.622 --> -6667.708 \n",
      "optimize edge weights:  -6667.708 --> -6666.784 \n",
      "optimize topology:  -6666.784 --> -6666.782 \n",
      "0 \n",
      "optimize base frequencies:  -6666.782 --> -6666.779 \n",
      "optimize rate matrix:  -6666.779 --> -6666.777 \n",
      "optimize shape parameter:  -6666.777 --> -6665.854 \n",
      "optimize edge weights:  -6665.854 --> -6664.903 \n",
      "optimize base frequencies:  -6664.903 --> -6664.903 \n",
      "optimize rate matrix:  -6664.903 --> -6664.898 \n",
      "optimize shape parameter:  -6664.898 --> -6663.939 \n",
      "optimize edge weights:  -6663.939 --> -6662.976 \n",
      "optimize base frequencies:  -6662.976 --> -6662.976 \n",
      "optimize rate matrix:  -6662.976 --> -6662.97 \n",
      "optimize shape parameter:  -6662.97 --> -6661.978 \n",
      "optimize edge weights:  -6661.978 --> -6660.984 \n",
      "optimize base frequencies:  -6660.984 --> -6660.984 \n",
      "optimize rate matrix:  -6660.984 --> -6660.975 \n",
      "optimize shape parameter:  -6660.975 --> -6659.972 \n",
      "optimize edge weights:  -6659.972 --> -6658.956 \n",
      "optimize base frequencies:  -6658.956 --> -6658.956 \n",
      "optimize rate matrix:  -6658.956 --> -6658.945 \n",
      "optimize shape parameter:  -6658.945 --> -6657.956 \n",
      "optimize edge weights:  -6657.956 --> -6656.973 \n",
      "optimize base frequencies:  -6656.973 --> -6656.973 \n",
      "optimize rate matrix:  -6656.973 --> -6656.961 \n",
      "optimize shape parameter:  -6656.961 --> -6656.013 \n",
      "optimize edge weights:  -6656.013 --> -6655.085 \n",
      "optimize base frequencies:  -6655.085 --> -6655.084 \n",
      "optimize rate matrix:  -6655.084 --> -6655.072 \n",
      "optimize shape parameter:  -6655.072 --> -6654.193 \n",
      "optimize edge weights:  -6654.193 --> -6653.347 \n",
      "optimize base frequencies:  -6653.347 --> -6653.346 \n",
      "optimize rate matrix:  -6653.346 --> -6653.334 \n",
      "optimize shape parameter:  -6653.334 --> -6652.553 \n",
      "optimize edge weights:  -6652.553 --> -6651.809 \n"
     ]
    },
    {
     "name": "stderr",
     "output_type": "stream",
     "text": [
      "Warning message:\n",
      ": I unrooted the tree"
     ]
    },
    {
     "name": "stdout",
     "output_type": "stream",
     "text": [
      "optimize edge weights:  -6593.609 --> -6589.19 \n",
      "optimize edge weights:  -6589.19 --> -6588.578 \n",
      "optimize edge weights:  -6588.578 --> -6588.511 \n",
      "optimize edge weights:  -6588.511 --> -6588.507 \n",
      "optimize edge weights:  -6588.507 --> -6588.507 \n",
      "optimize edge weights:  -6588.507 --> -6588.506 \n",
      "optimize edge weights:  -6588.506 --> -6588.506 \n"
     ]
    },
    {
     "name": "stderr",
     "output_type": "stream",
     "text": [
      "Warning message:\n",
      ": I unrooted the tree"
     ]
    },
    {
     "name": "stdout",
     "output_type": "stream",
     "text": [
      "optimize edge weights:  -6593.609 --> -6589.19 \n",
      "optimize base frequencies:  -6589.19 --> -6587.947 \n",
      "optimize rate matrix:  -6587.947 --> -6584.831 \n",
      "optimize edge weights:  -6584.831 --> -6584.085 \n",
      "optimize topology:  -6584.085 --> -6583.891 \n",
      "optimize topology:  -6583.891 --> -6583.553 \n",
      "optimize topology:  -6583.553 --> -6583.337 \n",
      "3 \n",
      "optimize base frequencies:  -6583.337 --> -6583.247 \n",
      "optimize rate matrix:  -6583.247 --> -6583.206 \n",
      "optimize edge weights:  -6583.206 --> -6583.076 \n",
      "optimize topology:  -6583.076 --> -6583.047 \n",
      "0 \n",
      "optimize base frequencies:  -6583.047 --> -6583.046 \n",
      "optimize rate matrix:  -6583.046 --> -6583.034 \n",
      "optimize edge weights:  -6583.034 --> -6583.003 \n",
      "optimize base frequencies:  -6583.003 --> -6583.003 \n",
      "optimize rate matrix:  -6583.003 --> -6583.001 \n",
      "optimize edge weights:  -6583.001 --> -6582.989 \n",
      "optimize base frequencies:  -6582.989 --> -6582.989 \n",
      "optimize rate matrix:  -6582.989 --> -6582.988 \n",
      "optimize edge weights:  -6582.988 --> -6582.984 \n",
      "optimize base frequencies:  -6582.984 --> -6582.984 \n",
      "optimize rate matrix:  -6582.984 --> -6582.983 \n",
      "optimize edge weights:  -6582.983 --> -6582.981 \n",
      "optimize base frequencies:  -6582.981 --> -6582.981 \n",
      "optimize rate matrix:  -6582.981 --> -6582.981 \n",
      "optimize edge weights:  -6582.981 --> -6582.98 \n",
      "optimize base frequencies:  -6582.98 --> -6582.98 \n",
      "optimize rate matrix:  -6582.98 --> -6582.98 \n",
      "optimize edge weights:  -6582.98 --> -6582.98 \n",
      "optimize base frequencies:  -6582.98 --> -6582.98 \n",
      "optimize rate matrix:  -6582.98 --> -6582.98 \n",
      "optimize edge weights:  -6582.98 --> -6582.98 \n"
     ]
    },
    {
     "name": "stderr",
     "output_type": "stream",
     "text": [
      "Warning message:\n",
      ": I unrooted the tree"
     ]
    },
    {
     "name": "stdout",
     "output_type": "stream",
     "text": [
      "optimize edge weights:  -6732.11 --> -6633.671 \n",
      "optimize base frequencies:  -6633.671 --> -6632.451 \n",
      "optimize rate matrix:  -6632.451 --> -6629.885 \n",
      "optimize shape parameter:  -6629.885 --> -6628.356 \n",
      "optimize edge weights:  -6628.356 --> -6626.151 \n",
      "optimize topology:  -6626.151 --> -6624.714 \n",
      "optimize topology:  -6624.714 --> -6624.462 \n",
      "optimize topology:  -6624.462 --> -6623.851 \n",
      "4 \n",
      "optimize base frequencies:  -6623.851 --> -6623.726 \n",
      "optimize rate matrix:  -6623.726 --> -6623.696 \n",
      "optimize shape parameter:  -6623.696 --> -6621.463 \n",
      "optimize edge weights:  -6621.463 --> -6618.915 \n",
      "optimize topology:  -6618.915 --> -6618.761 \n",
      "optimize topology:  -6618.761 --> -6618.752 \n",
      "1 \n",
      "optimize base frequencies:  -6618.752 --> -6618.75 \n",
      "optimize rate matrix:  -6618.75 --> -6618.735 \n",
      "optimize shape parameter:  -6618.735 --> -6615.966 \n",
      "optimize edge weights:  -6615.966 --> -6613.278 \n",
      "optimize topology:  -6613.278 --> -6613.25 \n",
      "0 \n",
      "optimize base frequencies:  -6613.25 --> -6613.25 \n",
      "optimize rate matrix:  -6613.25 --> -6613.244 \n",
      "optimize shape parameter:  -6613.244 --> -6610.169 \n",
      "optimize edge weights:  -6610.169 --> -6607.325 \n",
      "optimize base frequencies:  -6607.325 --> -6607.325 \n",
      "optimize rate matrix:  -6607.325 --> -6607.314 \n",
      "optimize shape parameter:  -6607.314 --> -6604.157 \n",
      "optimize edge weights:  -6604.157 --> -6601.333 \n",
      "optimize base frequencies:  -6601.333 --> -6601.333 \n",
      "optimize rate matrix:  -6601.333 --> -6601.319 \n",
      "optimize shape parameter:  -6601.319 --> -6598.383 \n",
      "optimize edge weights:  -6598.383 --> -6595.834 \n",
      "optimize base frequencies:  -6595.834 --> -6595.834 \n",
      "optimize rate matrix:  -6595.834 --> -6595.817 \n",
      "optimize shape parameter:  -6595.817 --> -6593.371 \n",
      "optimize edge weights:  -6593.371 --> -6591.325 \n",
      "optimize base frequencies:  -6591.325 --> -6591.325 \n",
      "optimize rate matrix:  -6591.325 --> -6591.309 \n",
      "optimize shape parameter:  -6591.309 --> -6589.492 \n",
      "optimize edge weights:  -6589.492 --> -6588.023 \n",
      "optimize base frequencies:  -6588.023 --> -6588.023 \n",
      "optimize rate matrix:  -6588.023 --> -6588.009 \n",
      "optimize shape parameter:  -6588.009 --> -6586.807 \n",
      "optimize edge weights:  -6586.807 --> -6585.874 \n",
      "optimize base frequencies:  -6585.874 --> -6585.874 \n",
      "optimize rate matrix:  -6585.874 --> -6585.864 \n",
      "optimize shape parameter:  -6585.864 --> -6585.152 \n",
      "optimize edge weights:  -6585.152 --> -6584.621 \n",
      "optimize base frequencies:  -6584.621 --> -6584.621 \n",
      "optimize rate matrix:  -6584.621 --> -6584.615 \n",
      "optimize shape parameter:  -6584.615 --> -6584.233 \n",
      "optimize edge weights:  -6584.233 --> -6583.959 \n"
     ]
    },
    {
     "name": "stderr",
     "output_type": "stream",
     "text": [
      "Warning message:\n",
      ": I unrooted the tree"
     ]
    },
    {
     "name": "stdout",
     "output_type": "stream",
     "text": [
      "optimize edge weights:  -6162.944 --> -6152.906 \n",
      "optimize edge weights:  -6152.906 --> -6152.331 \n",
      "optimize edge weights:  -6152.331 --> -6152.213 \n",
      "optimize edge weights:  -6152.213 --> -6152.179 \n",
      "optimize edge weights:  -6152.179 --> -6152.168 \n",
      "optimize edge weights:  -6152.168 --> -6152.164 \n",
      "optimize edge weights:  -6152.164 --> -6152.163 \n",
      "optimize edge weights:  -6152.163 --> -6152.162 \n",
      "optimize edge weights:  -6152.162 --> -6152.162 \n",
      "optimize edge weights:  -6152.162 --> -6152.162 \n"
     ]
    },
    {
     "name": "stderr",
     "output_type": "stream",
     "text": [
      "Warning message:\n",
      ": I unrooted the tree"
     ]
    },
    {
     "name": "stdout",
     "output_type": "stream",
     "text": [
      "optimize edge weights:  -6162.944 --> -6152.906 \n",
      "optimize base frequencies:  -6152.906 --> -6152.458 \n",
      "optimize rate matrix:  -6152.458 --> -6150.546 \n",
      "optimize edge weights:  -6150.546 --> -6149.874 \n",
      "optimize topology:  -6149.874 --> -6149.591 \n",
      "optimize topology:  -6149.591 --> -6149.496 \n",
      "1 \n",
      "optimize base frequencies:  -6149.496 --> -6149.416 \n",
      "optimize rate matrix:  -6149.416 --> -6149.386 \n",
      "optimize edge weights:  -6149.386 --> -6149.313 \n",
      "optimize topology:  -6149.313 --> -6149.293 \n",
      "0 \n",
      "optimize base frequencies:  -6149.293 --> -6149.291 \n",
      "optimize rate matrix:  -6149.291 --> -6149.29 \n",
      "optimize edge weights:  -6149.29 --> -6149.276 \n",
      "optimize base frequencies:  -6149.276 --> -6149.276 \n",
      "optimize rate matrix:  -6149.276 --> -6149.276 \n",
      "optimize edge weights:  -6149.276 --> -6149.276 \n",
      "optimize base frequencies:  -6149.276 --> -6149.276 \n",
      "optimize rate matrix:  -6149.276 --> -6149.276 \n",
      "optimize edge weights:  -6149.276 --> -6149.276 \n",
      "optimize base frequencies:  -6149.276 --> -6149.276 \n",
      "optimize rate matrix:  -6149.276 --> -6149.276 \n",
      "optimize edge weights:  -6149.276 --> -6149.276 \n"
     ]
    },
    {
     "name": "stderr",
     "output_type": "stream",
     "text": [
      "Warning message:\n",
      ": I unrooted the tree"
     ]
    },
    {
     "name": "stdout",
     "output_type": "stream",
     "text": [
      "optimize edge weights:  -6309.783 --> -6242.72 \n",
      "optimize base frequencies:  -6242.72 --> -6242.172 \n",
      "optimize rate matrix:  -6242.172 --> -6240.208 \n",
      "optimize shape parameter:  -6240.208 --> -6225.589 \n",
      "optimize edge weights:  -6225.589 --> -6212.551 \n",
      "optimize topology:  -6212.551 --> -6212.342 \n",
      "optimize topology:  -6212.342 --> -6212.272 \n",
      "1 \n",
      "optimize base frequencies:  -6212.272 --> -6212.061 \n",
      "optimize rate matrix:  -6212.061 --> -6212.037 \n",
      "optimize shape parameter:  -6212.037 --> -6197.492 \n",
      "optimize edge weights:  -6197.492 --> -6185.505 \n",
      "optimize topology:  -6185.505 --> -6185.484 \n",
      "0 \n",
      "optimize base frequencies:  -6185.484 --> -6185.48 \n",
      "optimize rate matrix:  -6185.48 --> -6185.422 \n",
      "optimize shape parameter:  -6185.422 --> -6173.872 \n",
      "optimize edge weights:  -6173.872 --> -6165.306 \n",
      "optimize base frequencies:  -6165.306 --> -6165.304 \n",
      "optimize rate matrix:  -6165.304 --> -6165.248 \n",
      "optimize shape parameter:  -6165.248 --> -6158.243 \n",
      "optimize edge weights:  -6158.243 --> -6153.754 \n",
      "optimize base frequencies:  -6153.754 --> -6153.751 \n",
      "optimize rate matrix:  -6153.751 --> -6153.718 \n",
      "optimize shape parameter:  -6153.718 --> -6150.877 \n",
      "optimize edge weights:  -6150.877 --> -6149.615 \n",
      "optimize base frequencies:  -6149.615 --> -6149.614 \n",
      "optimize rate matrix:  -6149.614 --> -6149.605 \n",
      "optimize shape parameter:  -6149.605 --> -6149.605 \n",
      "optimize edge weights:  -6149.605 --> -6149.596 \n",
      "optimize base frequencies:  -6149.596 --> -6149.594 \n",
      "optimize rate matrix:  -6149.594 --> -6149.594 \n",
      "optimize shape parameter:  -6149.594 --> -6149.594 \n",
      "optimize edge weights:  -6149.594 --> -6149.592 \n",
      "optimize base frequencies:  -6149.592 --> -6149.592 \n",
      "optimize rate matrix:  -6149.592 --> -6149.592 \n",
      "optimize shape parameter:  -6149.592 --> -6149.592 \n",
      "optimize edge weights:  -6149.592 --> -6149.592 \n",
      "optimize base frequencies:  -6149.592 --> -6149.592 \n",
      "optimize rate matrix:  -6149.592 --> -6149.592 \n",
      "optimize shape parameter:  -6149.592 --> -6149.592 \n",
      "optimize edge weights:  -6149.592 --> -6149.592 \n"
     ]
    },
    {
     "name": "stderr",
     "output_type": "stream",
     "text": [
      "Warning message:\n",
      ": I unrooted the tree"
     ]
    },
    {
     "name": "stdout",
     "output_type": "stream",
     "text": [
      "optimize edge weights:  -6424.374 --> -6410.473 \n",
      "optimize edge weights:  -6410.473 --> -6410.362 \n",
      "optimize edge weights:  -6410.362 --> -6410.357 \n",
      "optimize edge weights:  -6410.357 --> -6410.356 \n",
      "optimize edge weights:  -6410.356 --> -6410.356 \n"
     ]
    },
    {
     "name": "stderr",
     "output_type": "stream",
     "text": [
      "Warning message:\n",
      ": I unrooted the tree"
     ]
    },
    {
     "name": "stdout",
     "output_type": "stream",
     "text": [
      "optimize edge weights:  -6424.374 --> -6410.473 \n",
      "optimize base frequencies:  -6410.473 --> -6408.231 \n",
      "optimize rate matrix:  -6408.231 --> -6404.528 \n",
      "optimize edge weights:  -6404.528 --> -6404.378 \n",
      "optimize topology:  -6404.378 --> -6404.37 \n",
      "0 \n",
      "optimize base frequencies:  -6404.37 --> -6404.236 \n",
      "optimize rate matrix:  -6404.236 --> -6404.222 \n",
      "optimize edge weights:  -6404.222 --> -6404.219 \n",
      "optimize base frequencies:  -6404.219 --> -6404.218 \n",
      "optimize rate matrix:  -6404.218 --> -6404.218 \n",
      "optimize edge weights:  -6404.218 --> -6404.218 \n",
      "optimize base frequencies:  -6404.218 --> -6404.218 \n",
      "optimize rate matrix:  -6404.218 --> -6404.218 \n",
      "optimize edge weights:  -6404.218 --> -6404.218 \n",
      "optimize base frequencies:  -6404.218 --> -6404.218 \n",
      "optimize rate matrix:  -6404.218 --> -6404.218 \n",
      "optimize edge weights:  -6404.218 --> -6404.217 \n"
     ]
    },
    {
     "name": "stderr",
     "output_type": "stream",
     "text": [
      "Warning message:\n",
      ": I unrooted the tree"
     ]
    },
    {
     "name": "stdout",
     "output_type": "stream",
     "text": [
      "optimize edge weights:  -6571.702 --> -6496.16 \n",
      "optimize base frequencies:  -6496.16 --> -6493.582 \n",
      "optimize rate matrix:  -6493.582 --> -6489.255 \n",
      "optimize shape parameter:  -6489.255 --> -6475.536 \n",
      "optimize edge weights:  -6475.536 --> -6464.765 \n",
      "optimize topology:  -6464.765 --> -6464.745 \n",
      "0 \n",
      "optimize base frequencies:  -6464.745 --> -6464.544 \n",
      "optimize rate matrix:  -6464.544 --> -6464.479 \n",
      "optimize shape parameter:  -6464.479 --> -6451.705 \n",
      "optimize edge weights:  -6451.705 --> -6441.457 \n",
      "optimize base frequencies:  -6441.457 --> -6441.454 \n",
      "optimize rate matrix:  -6441.454 --> -6441.311 \n",
      "optimize shape parameter:  -6441.311 --> -6430.664 \n",
      "optimize edge weights:  -6430.664 --> -6422.678 \n",
      "optimize base frequencies:  -6422.678 --> -6422.677 \n",
      "optimize rate matrix:  -6422.677 --> -6422.583 \n",
      "optimize shape parameter:  -6422.583 --> -6415.646 \n",
      "optimize edge weights:  -6415.646 --> -6411.132 \n",
      "optimize base frequencies:  -6411.132 --> -6411.13 \n",
      "optimize rate matrix:  -6411.13 --> -6411.092 \n",
      "optimize shape parameter:  -6411.092 --> -6408.036 \n",
      "optimize edge weights:  -6408.036 --> -6406.307 \n",
      "optimize base frequencies:  -6406.307 --> -6406.306 \n",
      "optimize rate matrix:  -6406.306 --> -6406.296 \n",
      "optimize shape parameter:  -6406.296 --> -6405.43 \n",
      "optimize edge weights:  -6405.43 --> -6404.869 \n",
      "optimize base frequencies:  -6404.869 --> -6404.868 \n",
      "optimize rate matrix:  -6404.868 --> -6404.866 \n",
      "optimize shape parameter:  -6404.866 --> -6404.648 \n",
      "optimize edge weights:  -6404.648 --> -6404.418 \n",
      "optimize base frequencies:  -6404.418 --> -6404.418 \n",
      "optimize rate matrix:  -6404.418 --> -6404.417 \n",
      "optimize shape parameter:  -6404.417 --> -6404.351 \n",
      "optimize edge weights:  -6404.351 --> -6404.257 \n",
      "optimize base frequencies:  -6404.257 --> -6404.257 \n",
      "optimize rate matrix:  -6404.257 --> -6404.256 \n",
      "optimize shape parameter:  -6404.256 --> -6404.254 \n",
      "optimize edge weights:  -6404.254 --> -6404.238 \n",
      "optimize base frequencies:  -6404.238 --> -6404.238 \n",
      "optimize rate matrix:  -6404.238 --> -6404.238 \n",
      "optimize shape parameter:  -6404.238 --> -6404.238 \n",
      "optimize edge weights:  -6404.238 --> -6404.235 \n"
     ]
    },
    {
     "name": "stderr",
     "output_type": "stream",
     "text": [
      "Warning message:\n",
      ": I unrooted the tree"
     ]
    },
    {
     "name": "stdout",
     "output_type": "stream",
     "text": [
      "optimize edge weights:  -6315.248 --> -6303.453 \n",
      "optimize edge weights:  -6303.453 --> -6303.308 \n",
      "optimize edge weights:  -6303.308 --> -6303.296 \n",
      "optimize edge weights:  -6303.296 --> -6303.294 \n",
      "optimize edge weights:  -6303.294 --> -6303.294 \n",
      "optimize edge weights:  -6303.294 --> -6303.294 \n"
     ]
    },
    {
     "name": "stderr",
     "output_type": "stream",
     "text": [
      "Warning message:\n",
      ": I unrooted the tree"
     ]
    },
    {
     "name": "stdout",
     "output_type": "stream",
     "text": [
      "optimize edge weights:  -6315.248 --> -6303.453 \n",
      "optimize base frequencies:  -6303.453 --> -6301.705 \n",
      "optimize rate matrix:  -6301.705 --> -6298.536 \n",
      "optimize edge weights:  -6298.536 --> -6298.339 \n",
      "optimize topology:  -6298.339 --> -6298.331 \n",
      "0 \n",
      "optimize base frequencies:  -6298.331 --> -6298.308 \n",
      "optimize rate matrix:  -6298.308 --> -6298.304 \n",
      "optimize edge weights:  -6298.304 --> -6298.301 \n",
      "optimize base frequencies:  -6298.301 --> -6298.3 \n",
      "optimize rate matrix:  -6298.3 --> -6298.3 \n",
      "optimize edge weights:  -6298.3 --> -6298.3 \n",
      "optimize base frequencies:  -6298.3 --> -6298.3 \n",
      "optimize rate matrix:  -6298.3 --> -6298.3 \n",
      "optimize edge weights:  -6298.3 --> -6298.3 \n"
     ]
    },
    {
     "name": "stderr",
     "output_type": "stream",
     "text": [
      "Warning message:\n",
      ": I unrooted the tree"
     ]
    },
    {
     "name": "stdout",
     "output_type": "stream",
     "text": [
      "optimize edge weights:  -6438.889 --> -6337.526 \n",
      "optimize base frequencies:  -6337.526 --> -6334.972 \n",
      "optimize rate matrix:  -6334.972 --> -6332.727 \n",
      "optimize shape parameter:  -6332.727 --> -6331.304 \n",
      "optimize edge weights:  -6331.304 --> -6329.371 \n",
      "optimize topology:  -6329.371 --> -6329.322 \n",
      "0 \n",
      "optimize base frequencies:  -6329.322 --> -6329.27 \n",
      "optimize rate matrix:  -6329.27 --> -6329.259 \n",
      "optimize shape parameter:  -6329.259 --> -6327.785 \n",
      "optimize edge weights:  -6327.785 --> -6326.293 \n",
      "optimize base frequencies:  -6326.293 --> -6326.291 \n",
      "optimize rate matrix:  -6326.291 --> -6326.28 \n",
      "optimize shape parameter:  -6326.28 --> -6324.687 \n",
      "optimize edge weights:  -6324.687 --> -6323.108 \n",
      "optimize base frequencies:  -6323.108 --> -6323.107 \n",
      "optimize rate matrix:  -6323.107 --> -6323.094 \n",
      "optimize shape parameter:  -6323.094 --> -6321.395 \n",
      "optimize edge weights:  -6321.395 --> -6319.724 \n",
      "optimize base frequencies:  -6319.724 --> -6319.723 \n",
      "optimize rate matrix:  -6319.723 --> -6319.706 \n",
      "optimize shape parameter:  -6319.706 --> -6317.93 \n",
      "optimize edge weights:  -6317.93 --> -6316.181 \n",
      "optimize base frequencies:  -6316.181 --> -6316.18 \n",
      "optimize rate matrix:  -6316.18 --> -6316.161 \n",
      "optimize shape parameter:  -6316.161 --> -6314.353 \n",
      "optimize edge weights:  -6314.353 --> -6312.601 \n",
      "optimize base frequencies:  -6312.601 --> -6312.6 \n",
      "optimize rate matrix:  -6312.6 --> -6312.581 \n",
      "optimize shape parameter:  -6312.581 --> -6310.821 \n",
      "optimize edge weights:  -6310.821 --> -6309.113 \n",
      "optimize base frequencies:  -6309.113 --> -6309.112 \n",
      "optimize rate matrix:  -6309.112 --> -6309.093 \n",
      "optimize shape parameter:  -6309.093 --> -6307.456 \n",
      "optimize edge weights:  -6307.456 --> -6305.912 \n",
      "optimize base frequencies:  -6305.912 --> -6305.911 \n",
      "optimize rate matrix:  -6305.911 --> -6305.893 \n",
      "optimize shape parameter:  -6305.893 --> -6304.475 \n",
      "optimize edge weights:  -6304.475 --> -6303.187 \n",
      "optimize base frequencies:  -6303.187 --> -6303.186 \n",
      "optimize rate matrix:  -6303.186 --> -6303.172 \n",
      "optimize shape parameter:  -6303.172 --> -6302.072 \n",
      "optimize edge weights:  -6302.072 --> -6301.123 \n"
     ]
    },
    {
     "name": "stderr",
     "output_type": "stream",
     "text": [
      "Warning message:\n",
      ": I unrooted the tree"
     ]
    },
    {
     "name": "stdout",
     "output_type": "stream",
     "text": [
      "optimize edge weights:  -6359.552 --> -6347.899 \n",
      "optimize edge weights:  -6347.899 --> -6347.667 \n",
      "optimize edge weights:  -6347.667 --> -6347.642 \n",
      "optimize edge weights:  -6347.642 --> -6347.63 \n",
      "optimize edge weights:  -6347.63 --> -6347.616 \n",
      "optimize edge weights:  -6347.616 --> -6347.6 \n",
      "optimize edge weights:  -6347.6 --> -6347.584 \n",
      "optimize edge weights:  -6347.584 --> -6347.577 \n",
      "optimize edge weights:  -6347.577 --> -6347.573 \n",
      "optimize edge weights:  -6347.573 --> -6347.571 \n",
      "optimize edge weights:  -6347.571 --> -6347.57 \n"
     ]
    },
    {
     "name": "stderr",
     "output_type": "stream",
     "text": [
      "Warning message:\n",
      ": I unrooted the tree"
     ]
    },
    {
     "name": "stdout",
     "output_type": "stream",
     "text": [
      "optimize edge weights:  -6359.552 --> -6347.899 \n",
      "optimize base frequencies:  -6347.899 --> -6344.181 \n",
      "optimize rate matrix:  -6344.181 --> -6340.487 \n",
      "optimize edge weights:  -6340.487 --> -6339.967 \n",
      "optimize topology:  -6339.967 --> -6339.623 \n",
      "optimize topology:  -6339.623 --> -6339.38 \n",
      "optimize topology:  -6339.38 --> -6339.259 \n",
      "2 \n",
      "optimize base frequencies:  -6339.259 --> -6339.16 \n",
      "optimize rate matrix:  -6339.16 --> -6339.086 \n",
      "optimize edge weights:  -6339.086 --> -6338.954 \n",
      "optimize topology:  -6338.954 --> -6338.912 \n",
      "0 \n",
      "optimize base frequencies:  -6338.912 --> -6338.911 \n",
      "optimize rate matrix:  -6338.911 --> -6338.905 \n",
      "optimize edge weights:  -6338.905 --> -6338.859 \n",
      "optimize base frequencies:  -6338.859 --> -6338.859 \n",
      "optimize rate matrix:  -6338.859 --> -6338.858 \n",
      "optimize edge weights:  -6338.858 --> -6338.83 \n",
      "optimize base frequencies:  -6338.83 --> -6338.83 \n",
      "optimize rate matrix:  -6338.83 --> -6338.83 \n",
      "optimize edge weights:  -6338.83 --> -6338.812 \n",
      "optimize base frequencies:  -6338.812 --> -6338.812 \n",
      "optimize rate matrix:  -6338.812 --> -6338.812 \n",
      "optimize edge weights:  -6338.812 --> -6338.8 \n",
      "optimize base frequencies:  -6338.8 --> -6338.8 \n",
      "optimize rate matrix:  -6338.8 --> -6338.8 \n",
      "optimize edge weights:  -6338.8 --> -6338.791 \n",
      "optimize base frequencies:  -6338.791 --> -6338.791 \n",
      "optimize rate matrix:  -6338.791 --> -6338.791 \n",
      "optimize edge weights:  -6338.791 --> -6338.786 \n",
      "optimize base frequencies:  -6338.786 --> -6338.786 \n",
      "optimize rate matrix:  -6338.786 --> -6338.786 \n",
      "optimize edge weights:  -6338.786 --> -6338.781 \n",
      "optimize base frequencies:  -6338.781 --> -6338.781 \n",
      "optimize rate matrix:  -6338.781 --> -6338.781 \n",
      "optimize edge weights:  -6338.781 --> -6338.778 \n"
     ]
    },
    {
     "name": "stderr",
     "output_type": "stream",
     "text": [
      "Warning message:\n",
      ": I unrooted the tree"
     ]
    },
    {
     "name": "stdout",
     "output_type": "stream",
     "text": [
      "optimize edge weights:  -6480.884 --> -6379.812 \n",
      "optimize base frequencies:  -6379.812 --> -6376.152 \n",
      "optimize rate matrix:  -6376.152 --> -6372.242 \n",
      "optimize shape parameter:  -6372.242 --> -6370.744 \n",
      "optimize edge weights:  -6370.744 --> -6368.957 \n",
      "optimize topology:  -6368.957 --> -6368.012 \n",
      "optimize topology:  -6368.012 --> -6367.99 \n",
      "optimize topology:  -6367.99 --> -6367.985 \n",
      "3 \n",
      "optimize base frequencies:  -6367.985 --> -6367.857 \n",
      "optimize rate matrix:  -6367.857 --> -6367.798 \n",
      "optimize shape parameter:  -6367.798 --> -6366.534 \n",
      "optimize edge weights:  -6366.534 --> -6365.251 \n",
      "optimize topology:  -6365.251 --> -6365.242 \n",
      "optimize topology:  -6365.242 --> -6365.241 \n",
      "optimize topology:  -6365.241 --> -6365.24 \n",
      "3 \n",
      "optimize base frequencies:  -6365.24 --> -6365.235 \n",
      "optimize rate matrix:  -6365.235 --> -6365.232 \n",
      "optimize shape parameter:  -6365.232 --> -6363.832 \n",
      "optimize edge weights:  -6363.832 --> -6362.407 \n",
      "optimize topology:  -6362.407 --> -6362.401 \n",
      "optimize topology:  -6362.401 --> -6362.4 \n",
      "optimize topology:  -6362.4 --> -6362.399 \n",
      "3 \n",
      "optimize base frequencies:  -6362.399 --> -6362.399 \n",
      "optimize rate matrix:  -6362.399 --> -6362.39 \n",
      "optimize shape parameter:  -6362.39 --> -6360.847 \n",
      "optimize edge weights:  -6360.847 --> -6359.285 \n",
      "optimize topology:  -6359.285 --> -6359.278 \n",
      "optimize topology:  -6359.278 --> -6359.276 \n",
      "optimize topology:  -6359.276 --> -6359.276 \n",
      "3 \n",
      "optimize base frequencies:  -6359.276 --> -6359.275 \n",
      "optimize rate matrix:  -6359.275 --> -6359.262 \n",
      "optimize shape parameter:  -6359.262 --> -6357.61 \n",
      "optimize edge weights:  -6357.61 --> -6355.956 \n",
      "optimize topology:  -6355.956 --> -6355.944 \n",
      "optimize topology:  -6355.944 --> -6355.941 \n",
      "optimize topology:  -6355.941 --> -6355.94 \n",
      "3 \n",
      "optimize base frequencies:  -6355.94 --> -6355.94 \n",
      "optimize rate matrix:  -6355.94 --> -6355.923 \n",
      "optimize shape parameter:  -6355.923 --> -6354.231 \n",
      "optimize edge weights:  -6354.231 --> -6352.584 \n",
      "optimize topology:  -6352.584 --> -6352.574 \n",
      "optimize topology:  -6352.574 --> -6352.569 \n",
      "optimize topology:  -6352.569 --> -6352.567 \n",
      "3 \n",
      "optimize base frequencies:  -6352.567 --> -6352.566 \n",
      "optimize rate matrix:  -6352.566 --> -6352.548 \n",
      "optimize shape parameter:  -6352.548 --> -6350.909 \n",
      "optimize edge weights:  -6350.909 --> -6349.354 \n",
      "optimize topology:  -6349.354 --> -6349.341 \n",
      "0 \n",
      "optimize base frequencies:  -6349.341 --> -6349.34 \n",
      "optimize rate matrix:  -6349.34 --> -6349.32 \n",
      "optimize shape parameter:  -6349.32 --> -6347.844 \n",
      "optimize edge weights:  -6347.844 --> -6346.472 \n",
      "optimize base frequencies:  -6346.472 --> -6346.471 \n",
      "optimize rate matrix:  -6346.471 --> -6346.451 \n",
      "optimize shape parameter:  -6346.451 --> -6345.212 \n",
      "optimize edge weights:  -6345.212 --> -6344.118 \n",
      "optimize base frequencies:  -6344.118 --> -6344.117 \n",
      "optimize rate matrix:  -6344.117 --> -6344.101 \n",
      "optimize shape parameter:  -6344.101 --> -6343.176 \n",
      "optimize edge weights:  -6343.176 --> -6342.372 \n",
      "optimize base frequencies:  -6342.372 --> -6342.371 \n",
      "optimize rate matrix:  -6342.371 --> -6342.363 \n",
      "optimize shape parameter:  -6342.363 --> -6341.746 \n",
      "optimize edge weights:  -6341.746 --> -6341.174 \n",
      "optimize base frequencies:  -6341.174 --> -6341.173 \n",
      "optimize rate matrix:  -6341.173 --> -6341.168 \n",
      "optimize shape parameter:  -6341.168 --> -6340.788 \n",
      "optimize edge weights:  -6340.788 --> -6340.369 \n",
      "optimize base frequencies:  -6340.369 --> -6340.369 \n",
      "optimize rate matrix:  -6340.369 --> -6340.368 \n",
      "optimize shape parameter:  -6340.368 --> -6340.138 \n",
      "optimize edge weights:  -6340.138 --> -6339.841 \n",
      "optimize base frequencies:  -6339.841 --> -6339.841 \n",
      "optimize rate matrix:  -6339.841 --> -6339.841 \n",
      "optimize shape parameter:  -6339.841 --> -6339.701 \n",
      "optimize edge weights:  -6339.701 --> -6339.504 \n",
      "optimize base frequencies:  -6339.504 --> -6339.504 \n",
      "optimize rate matrix:  -6339.504 --> -6339.504 \n",
      "optimize shape parameter:  -6339.504 --> -6339.423 \n",
      "optimize edge weights:  -6339.423 --> -6339.294 \n"
     ]
    },
    {
     "name": "stderr",
     "output_type": "stream",
     "text": [
      "Warning message:\n",
      ": I unrooted the tree"
     ]
    },
    {
     "name": "stdout",
     "output_type": "stream",
     "text": [
      "optimize edge weights:  -6074.648 --> -6069.518 \n",
      "optimize edge weights:  -6069.518 --> -6069.281 \n",
      "optimize edge weights:  -6069.281 --> -6069.191 \n",
      "optimize edge weights:  -6069.191 --> -6069.146 \n",
      "optimize edge weights:  -6069.146 --> -6069.13 \n",
      "optimize edge weights:  -6069.13 --> -6069.13 \n",
      "optimize edge weights:  -6069.13 --> -6069.129 \n"
     ]
    },
    {
     "name": "stderr",
     "output_type": "stream",
     "text": [
      "Warning message:\n",
      ": I unrooted the tree"
     ]
    },
    {
     "name": "stdout",
     "output_type": "stream",
     "text": [
      "optimize edge weights:  -6074.648 --> -6069.518 \n",
      "optimize base frequencies:  -6069.518 --> -6068.004 \n",
      "optimize rate matrix:  -6068.004 --> -6066.783 \n",
      "optimize edge weights:  -6066.783 --> -6066.566 \n",
      "optimize topology:  -6066.566 --> -6063.694 \n",
      "optimize topology:  -6063.694 --> -6063.635 \n",
      "1 \n",
      "optimize base frequencies:  -6063.635 --> -6063.553 \n",
      "optimize rate matrix:  -6063.553 --> -6063.504 \n",
      "optimize edge weights:  -6063.504 --> -6063.451 \n",
      "optimize topology:  -6063.451 --> -6063.38 \n",
      "optimize topology:  -6063.38 --> -6063.371 \n",
      "1 \n",
      "optimize base frequencies:  -6063.371 --> -6063.37 \n",
      "optimize rate matrix:  -6063.37 --> -6063.369 \n",
      "optimize edge weights:  -6063.369 --> -6063.361 \n",
      "optimize topology:  -6063.361 --> -6063.359 \n",
      "0 \n",
      "optimize base frequencies:  -6063.359 --> -6063.359 \n",
      "optimize rate matrix:  -6063.359 --> -6063.359 \n",
      "optimize edge weights:  -6063.359 --> -6063.357 \n",
      "optimize base frequencies:  -6063.357 --> -6063.357 \n",
      "optimize rate matrix:  -6063.357 --> -6063.357 \n",
      "optimize edge weights:  -6063.357 --> -6063.356 \n",
      "optimize base frequencies:  -6063.356 --> -6063.356 \n",
      "optimize rate matrix:  -6063.356 --> -6063.356 \n",
      "optimize edge weights:  -6063.356 --> -6063.356 \n",
      "optimize base frequencies:  -6063.356 --> -6063.356 \n",
      "optimize rate matrix:  -6063.356 --> -6063.356 \n",
      "optimize edge weights:  -6063.356 --> -6063.356 \n"
     ]
    },
    {
     "name": "stderr",
     "output_type": "stream",
     "text": [
      "Warning message:\n",
      ": I unrooted the tree"
     ]
    },
    {
     "name": "stdout",
     "output_type": "stream",
     "text": [
      "optimize edge weights:  -6224.451 --> -6148.673 \n",
      "optimize base frequencies:  -6148.673 --> -6147.383 \n",
      "optimize rate matrix:  -6147.383 --> -6146.147 \n",
      "optimize shape parameter:  -6146.147 --> -6131.783 \n",
      "optimize edge weights:  -6131.783 --> -6118.449 \n",
      "optimize topology:  -6118.449 --> -6117.097 \n",
      "optimize topology:  -6117.097 --> -6116.842 \n",
      "optimize topology:  -6116.842 --> -6116.781 \n",
      "4 \n",
      "optimize base frequencies:  -6116.781 --> -6116.632 \n",
      "optimize rate matrix:  -6116.632 --> -6116.615 \n",
      "optimize shape parameter:  -6116.615 --> -6103.812 \n",
      "optimize edge weights:  -6103.812 --> -6093.534 \n",
      "optimize topology:  -6093.534 --> -6093.33 \n",
      "optimize topology:  -6093.33 --> -6093.242 \n",
      "optimize topology:  -6093.242 --> -6093.167 \n",
      "3 \n",
      "optimize base frequencies:  -6093.167 --> -6093.154 \n",
      "optimize rate matrix:  -6093.154 --> -6093.124 \n",
      "optimize shape parameter:  -6093.124 --> -6083.639 \n",
      "optimize edge weights:  -6083.639 --> -6076.587 \n",
      "optimize topology:  -6076.587 --> -6076.258 \n",
      "optimize topology:  -6076.258 --> -6076.138 \n",
      "optimize topology:  -6076.138 --> -6076.115 \n",
      "3 \n",
      "optimize base frequencies:  -6076.115 --> -6076.104 \n",
      "optimize rate matrix:  -6076.104 --> -6076.063 \n",
      "optimize shape parameter:  -6076.063 --> -6070.475 \n",
      "optimize edge weights:  -6070.475 --> -6066.878 \n",
      "optimize topology:  -6066.878 --> -6066.838 \n",
      "optimize topology:  -6066.838 --> -6066.826 \n",
      "1 \n",
      "optimize base frequencies:  -6066.826 --> -6066.823 \n",
      "optimize rate matrix:  -6066.823 --> -6066.8 \n",
      "optimize shape parameter:  -6066.8 --> -6064.563 \n",
      "optimize edge weights:  -6064.563 --> -6063.472 \n",
      "optimize topology:  -6063.472 --> -6063.458 \n",
      "0 \n",
      "optimize base frequencies:  -6063.458 --> -6063.457 \n",
      "optimize rate matrix:  -6063.457 --> -6063.449 \n",
      "optimize shape parameter:  -6063.449 --> -6063.449 \n",
      "optimize edge weights:  -6063.449 --> -6063.436 \n",
      "optimize base frequencies:  -6063.436 --> -6063.436 \n",
      "optimize rate matrix:  -6063.436 --> -6063.436 \n",
      "optimize shape parameter:  -6063.436 --> -6063.436 \n",
      "optimize edge weights:  -6063.436 --> -6063.43 \n",
      "optimize base frequencies:  -6063.43 --> -6063.43 \n",
      "optimize rate matrix:  -6063.43 --> -6063.43 \n",
      "optimize shape parameter:  -6063.43 --> -6063.43 \n",
      "optimize edge weights:  -6063.43 --> -6063.428 \n",
      "optimize base frequencies:  -6063.428 --> -6063.428 \n",
      "optimize rate matrix:  -6063.428 --> -6063.428 \n",
      "optimize shape parameter:  -6063.428 --> -6063.428 \n",
      "optimize edge weights:  -6063.428 --> -6063.427 \n",
      "optimize base frequencies:  -6063.427 --> -6063.427 \n",
      "optimize rate matrix:  -6063.427 --> -6063.427 \n",
      "optimize shape parameter:  -6063.427 --> -6063.427 \n",
      "optimize edge weights:  -6063.427 --> -6063.426 \n",
      "optimize base frequencies:  -6063.426 --> -6063.426 \n",
      "optimize rate matrix:  -6063.426 --> -6063.426 \n",
      "optimize shape parameter:  -6063.426 --> -6063.426 \n",
      "optimize edge weights:  -6063.426 --> -6063.426 \n"
     ]
    }
   ],
   "source": [
    "gtr_matrix <- array(data = NA, dim = c(10, 3, 2))\n",
    "\n",
    "\n",
    "for(i in 1:10){\n",
    "    tr <- rtree(10)\n",
    "    Q <- runif(6)\n",
    "    Q <- Q / sum(Q)\n",
    "    bf <- runif(4)\n",
    "    bf <- bf / sum(bf)\n",
    "#    rates <- phangorn:::discrete.gamma(alpha = 0.4, k = 4)\n",
    "#    rates <- rep(1, 4)\n",
    "#    list_data <- lapply(rates, function(r) \n",
    "#        simSeq(tr, l = 250, Q = Q, bf = bf, model = 'GTR', rate = r))\n",
    "#    gtrg_data <- as.DNAbin(concat_list(list_data))\n",
    "    \n",
    " ## With JC\n",
    "    gtrg_data <- as.DNAbin(simSeq(tr, l = 1000))\n",
    "    \n",
    "#    list_data <- lapply(rates, function(r) \n",
    "#        simSeq(tr, l = 250,  rate = r))\n",
    "    \n",
    "#    gtrg_data <- as.DNAbin(concat_list(list_data))\n",
    "        \n",
    "        \n",
    "    training_index <- sample(1:ncol(gtrg_data), ncol(gtrg_data) / 2)\n",
    "\n",
    "    training_set <- phyDat(gtrg_data[, training_index])\n",
    "    test_set <- phyDat(gtrg_data[, -training_index])\n",
    "    \n",
    "        \n",
    "    fit_jc <- optim.pml(pml(tr, training_set))\n",
    "    gtr_matrix[i, 1,1] <- pml(fit_jc$tree, test_set)$logLik\n",
    "    gtr_matrix[i, 1, 2] <- fit_jc$logLik\n",
    "        \n",
    "    fit_gtr <- optim.pml(pml(tr, training_set), optNni = T, optBf = T, optQ = T, trace = 0)\n",
    "    gtr_matrix[i, 2,1] <- pml(fit_gtr$tree, test_set, Q = fit_gtr$Q, fit_gtr$bf)$logLik\n",
    "    gtr_matrix[i, 2, 2] <- fit_gtr$logLik\n",
    "        \n",
    "    fit_gtrg <- optim.pml(pml(tr, training_set, k = 4), optNni = T, optBf = T, \n",
    "                      optQ = T, optGamma = T, trace = 0)\n",
    "    gtr_matrix[i, 3, 1] <- pml(fit_gtrg$tree, test_set, Q = fit_gtrg$Q, bf = fit_gtrg$bf, \n",
    "        shape = fit_gtrg$shape, k = 4, trace = 0)$logLik\n",
    "    gtr_matrix[i, 3, 2] <- fit_gtrg$logLik\n",
    "}"
   ]
  },
  {
   "cell_type": "code",
   "execution_count": 169,
   "metadata": {
    "collapsed": false
   },
   "outputs": [
    {
     "name": "stdout",
     "output_type": "stream",
     "text": [
      ", , 1\n",
      "\n",
      "       [,1]  [,2]  [,3]\n",
      " [1,] -6372 -6372 -6371\n",
      " [2,] -6615 -6622 -6626\n",
      " [3,] -6435 -6444 -6444\n",
      " [4,] -6650 -6654 -6664\n",
      " [5,] -6661 -6675 -6676\n",
      " [6,] -6105 -6104 -6105\n",
      " [7,] -6497 -6501 -6501\n",
      " [8,] -6431 -6437 -6437\n",
      " [9,] -6447 -6453 -6453\n",
      "[10,] -6043 -6054 -6054\n",
      "\n",
      ", , 2\n",
      "\n",
      "       [,1]  [,2]  [,3]\n",
      " [1,] -6416 -6414 -6415\n",
      " [2,] -6571 -6564 -6563\n",
      " [3,] -6361 -6356 -6356\n",
      " [4,] -6651 -6648 -6652\n",
      " [5,] -6589 -6583 -6584\n",
      " [6,] -6152 -6149 -6150\n",
      " [7,] -6410 -6404 -6404\n",
      " [8,] -6303 -6298 -6301\n",
      " [9,] -6348 -6339 -6339\n",
      "[10,] -6069 -6063 -6063\n",
      "\n"
     ]
    }
   ],
   "source": [
    "gtr_matrix <- round(gtr_matrix, 0)\n",
    "print(gtr_matrix)"
   ]
  },
  {
   "cell_type": "code",
   "execution_count": 170,
   "metadata": {
    "collapsed": false
   },
   "outputs": [
    {
     "name": "stdout",
     "output_type": "stream",
     "text": [
      "3 1 2 \n",
      "1 2 3 \n",
      "1 2 3 \n",
      "1 2 3 \n",
      "1 2 3 \n",
      "2 1 3 \n",
      "1 2 3 \n",
      "1 2 3 \n",
      "1 2 3 \n",
      "1 2 3 \n",
      "#######\n",
      "2 3 1 \n",
      "3 2 1 \n",
      "2 3 1 \n",
      "2 1 3 \n",
      "2 3 1 \n",
      "2 3 1 \n",
      "2 3 1 \n",
      "2 3 1 \n",
      "2 3 1 \n",
      "2 3 1 \n"
     ]
    }
   ],
   "source": [
    "for(r in 1:10){\n",
    "    cat(order(gtr_matrix[r, , 1], decreasing = T), '\\n')\n",
    "}\n",
    "cat('#######\\n')\n",
    "for(r in 1:10){\n",
    "    cat(order(gtr_matrix[r, , 2], decreasing = T), '\\n')\n",
    "}"
   ]
  },
  {
   "cell_type": "code",
   "execution_count": null,
   "metadata": {
    "collapsed": false
   },
   "outputs": [],
   "source": []
  },
  {
   "cell_type": "code",
   "execution_count": null,
   "metadata": {
    "collapsed": true
   },
   "outputs": [],
   "source": []
  }
 ],
 "metadata": {
  "kernelspec": {
   "display_name": "R",
   "language": "R",
   "name": "ir"
  },
  "language_info": {
   "codemirror_mode": "r",
   "file_extension": ".r",
   "mimetype": "text/x-r-source",
   "name": "R",
   "pygments_lexer": "r",
   "version": "3.2.2"
  }
 },
 "nbformat": 4,
 "nbformat_minor": 0
}
