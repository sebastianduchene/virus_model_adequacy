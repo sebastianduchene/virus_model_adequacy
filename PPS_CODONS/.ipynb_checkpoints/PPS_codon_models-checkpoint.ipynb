{
 "metadata": {
  "name": "",
  "signature": "sha256:28a7d133e502fa61ba81dd29a1a1915a28792b4dd98425b2d91238918262c166"
 },
 "nbformat": 3,
 "nbformat_minor": 0,
 "worksheets": [
  {
   "cells": [
    {
     "cell_type": "markdown",
     "metadata": {},
     "source": [
      "## Posterior predictive simulation for codon models in MrBayes"
     ]
    },
    {
     "cell_type": "markdown",
     "metadata": {},
     "source": [
      "- Sebastian Duchene\n",
      "\n",
      "August 10 2015\n",
      "\n",
      "To conduct these analyses make sure you have python with the dependencies listed [here](https://github.com/sebastianduchene/virus_model_adequacy/tree/master/PPS_CODONS) installed"
     ]
    },
    {
     "cell_type": "markdown",
     "metadata": {},
     "source": [
      "Load the dependencies as follows. Note that it is also necessary to use a [script](https://github.com/sebastianduchene/virus_model_adequacy/blob/master/PPS_CODONS/sim_funs.py) that contains a set of functions to conduct the actual simulations. It consists of wrapper functions that use [pyvolve](http://sjspielman.org/pyvolve/) and [dendropy](https://pythonhosted.org/DendroPy/) and to calculate multinomial likelihoods and chi-squared test statistics."
     ]
    },
    {
     "cell_type": "markdown",
     "metadata": {},
     "source": [
      "The first step is to load all the dependencies. matplotlib is used for plotting the posterior predictive distribution of the test statistics, so it is not necessary."
     ]
    },
    {
     "cell_type": "code",
     "collapsed": false,
     "input": [
      "import pandas as pd\n",
      "import numpy as np\n",
      "import dendropy as dp\n",
      "import re, os\n",
      "import pyvolve\n",
      "execfile('sim_funs.py')\n",
      "import matplotlib.pyplot as plt\n",
      "%pylab inline\n",
      "pylab.rcParams['figure.figsize'] = 12, 3"
     ],
     "language": "python",
     "metadata": {},
     "outputs": [
      {
       "output_type": "stream",
       "stream": "stdout",
       "text": [
        "Populating the interactive namespace from numpy and matplotlib\n"
       ]
      }
     ],
     "prompt_number": 1
    },
    {
     "cell_type": "markdown",
     "metadata": {},
     "source": [
      "Next, we need to load the data files. These consist of the log file from MrBayes, the trees, and the empirical data, \n",
      "which we use to compare the test statistics. For the purpose of this example, we will use a reduced *Dengue virus 2* data set, which should run in MrBayes within a few hours in a regular desktop computer."
     ]
    },
    {
     "cell_type": "code",
     "collapsed": false,
     "input": [
      "params = pd.read_csv('reduced_denv.nexus.p', sep = '\\t', skiprows=1)\n",
      "trees = dp.TreeList.get_from_path('reduced_denv.nexus.t', 'nexus')\n",
      "emp_data = fasta_to_matrix('reduced_denv.fasta')"
     ],
     "language": "python",
     "metadata": {},
     "outputs": [],
     "prompt_number": 2
    },
    {
     "cell_type": "markdown",
     "metadata": {},
     "source": [
      "This is a summary of the data:"
     ]
    },
    {
     "cell_type": "code",
     "collapsed": false,
     "input": [
      "# The first rows of the parameter estimates\n",
      "params.head()"
     ],
     "language": "python",
     "metadata": {},
     "outputs": [
      {
       "html": [
        "<div style=\"max-height:1000px;max-width:1500px;overflow:auto;\">\n",
        "<table border=\"1\" class=\"dataframe\">\n",
        "  <thead>\n",
        "    <tr style=\"text-align: right;\">\n",
        "      <th></th>\n",
        "      <th>Gen</th>\n",
        "      <th>LnL</th>\n",
        "      <th>LnPr</th>\n",
        "      <th>TL</th>\n",
        "      <th>omega(1)</th>\n",
        "      <th>omega(2)</th>\n",
        "      <th>omega(3)</th>\n",
        "      <th>pi(1)</th>\n",
        "      <th>pi(2)</th>\n",
        "      <th>pi(3)</th>\n",
        "      <th>...</th>\n",
        "      <th>pi(TCC)</th>\n",
        "      <th>pi(TCG)</th>\n",
        "      <th>pi(TCT)</th>\n",
        "      <th>pi(TGC)</th>\n",
        "      <th>pi(TGG)</th>\n",
        "      <th>pi(TGT)</th>\n",
        "      <th>pi(TTA)</th>\n",
        "      <th>pi(TTC)</th>\n",
        "      <th>pi(TTG)</th>\n",
        "      <th>pi(TTT)</th>\n",
        "    </tr>\n",
        "  </thead>\n",
        "  <tbody>\n",
        "    <tr>\n",
        "      <th>0</th>\n",
        "      <td>0</td>\n",
        "      <td>-566.8474</td>\n",
        "      <td>368.6563</td>\n",
        "      <td>0.173718</td>\n",
        "      <td>0.098535</td>\n",
        "      <td>1.005723</td>\n",
        "      <td>3.039912</td>\n",
        "      <td>0.476857</td>\n",
        "      <td>0.065176</td>\n",
        "      <td>0.457967</td>\n",
        "      <td>...</td>\n",
        "      <td>0.014325</td>\n",
        "      <td>0.018153</td>\n",
        "      <td>0.014865</td>\n",
        "      <td>0.014787</td>\n",
        "      <td>0.013954</td>\n",
        "      <td>0.018922</td>\n",
        "      <td>0.022742</td>\n",
        "      <td>0.015191</td>\n",
        "      <td>0.017548</td>\n",
        "      <td>0.015897</td>\n",
        "    </tr>\n",
        "    <tr>\n",
        "      <th>1</th>\n",
        "      <td>100</td>\n",
        "      <td>-556.4406</td>\n",
        "      <td>417.4309</td>\n",
        "      <td>0.072678</td>\n",
        "      <td>0.084369</td>\n",
        "      <td>1.074062</td>\n",
        "      <td>3.029257</td>\n",
        "      <td>0.024082</td>\n",
        "      <td>0.324795</td>\n",
        "      <td>0.651123</td>\n",
        "      <td>...</td>\n",
        "      <td>0.017113</td>\n",
        "      <td>0.016699</td>\n",
        "      <td>0.019602</td>\n",
        "      <td>0.017112</td>\n",
        "      <td>0.017521</td>\n",
        "      <td>0.016626</td>\n",
        "      <td>0.016239</td>\n",
        "      <td>0.017026</td>\n",
        "      <td>0.018437</td>\n",
        "      <td>0.012108</td>\n",
        "    </tr>\n",
        "    <tr>\n",
        "      <th>2</th>\n",
        "      <td>200</td>\n",
        "      <td>-555.7678</td>\n",
        "      <td>402.9560</td>\n",
        "      <td>0.094087</td>\n",
        "      <td>0.080783</td>\n",
        "      <td>1.074062</td>\n",
        "      <td>3.051794</td>\n",
        "      <td>0.038825</td>\n",
        "      <td>0.323062</td>\n",
        "      <td>0.638113</td>\n",
        "      <td>...</td>\n",
        "      <td>0.017113</td>\n",
        "      <td>0.016699</td>\n",
        "      <td>0.019602</td>\n",
        "      <td>0.017112</td>\n",
        "      <td>0.017521</td>\n",
        "      <td>0.016626</td>\n",
        "      <td>0.016239</td>\n",
        "      <td>0.017026</td>\n",
        "      <td>0.018437</td>\n",
        "      <td>0.012108</td>\n",
        "    </tr>\n",
        "    <tr>\n",
        "      <th>3</th>\n",
        "      <td>300</td>\n",
        "      <td>-556.1120</td>\n",
        "      <td>393.0971</td>\n",
        "      <td>0.112139</td>\n",
        "      <td>0.080783</td>\n",
        "      <td>1.069361</td>\n",
        "      <td>3.092788</td>\n",
        "      <td>0.034909</td>\n",
        "      <td>0.306360</td>\n",
        "      <td>0.658731</td>\n",
        "      <td>...</td>\n",
        "      <td>0.016994</td>\n",
        "      <td>0.018907</td>\n",
        "      <td>0.016642</td>\n",
        "      <td>0.017794</td>\n",
        "      <td>0.016940</td>\n",
        "      <td>0.015530</td>\n",
        "      <td>0.014312</td>\n",
        "      <td>0.018088</td>\n",
        "      <td>0.019304</td>\n",
        "      <td>0.010676</td>\n",
        "    </tr>\n",
        "    <tr>\n",
        "      <th>4</th>\n",
        "      <td>400</td>\n",
        "      <td>-555.1091</td>\n",
        "      <td>416.0638</td>\n",
        "      <td>0.074545</td>\n",
        "      <td>0.062263</td>\n",
        "      <td>1.040070</td>\n",
        "      <td>3.015730</td>\n",
        "      <td>0.025379</td>\n",
        "      <td>0.368130</td>\n",
        "      <td>0.606492</td>\n",
        "      <td>...</td>\n",
        "      <td>0.016994</td>\n",
        "      <td>0.018907</td>\n",
        "      <td>0.016642</td>\n",
        "      <td>0.017794</td>\n",
        "      <td>0.016940</td>\n",
        "      <td>0.015530</td>\n",
        "      <td>0.014312</td>\n",
        "      <td>0.018088</td>\n",
        "      <td>0.019304</td>\n",
        "      <td>0.010676</td>\n",
        "    </tr>\n",
        "  </tbody>\n",
        "</table>\n",
        "<p>5 rows \u00d7 71 columns</p>\n",
        "</div>"
       ],
       "metadata": {},
       "output_type": "pyout",
       "prompt_number": 3,
       "text": [
        "   Gen       LnL      LnPr        TL  omega(1)  omega(2)  omega(3)     pi(1)  \\\n",
        "0    0 -566.8474  368.6563  0.173718  0.098535  1.005723  3.039912  0.476857   \n",
        "1  100 -556.4406  417.4309  0.072678  0.084369  1.074062  3.029257  0.024082   \n",
        "2  200 -555.7678  402.9560  0.094087  0.080783  1.074062  3.051794  0.038825   \n",
        "3  300 -556.1120  393.0971  0.112139  0.080783  1.069361  3.092788  0.034909   \n",
        "4  400 -555.1091  416.0638  0.074545  0.062263  1.040070  3.015730  0.025379   \n",
        "\n",
        "      pi(2)     pi(3)    ...      pi(TCC)   pi(TCG)   pi(TCT)   pi(TGC)  \\\n",
        "0  0.065176  0.457967    ...     0.014325  0.018153  0.014865  0.014787   \n",
        "1  0.324795  0.651123    ...     0.017113  0.016699  0.019602  0.017112   \n",
        "2  0.323062  0.638113    ...     0.017113  0.016699  0.019602  0.017112   \n",
        "3  0.306360  0.658731    ...     0.016994  0.018907  0.016642  0.017794   \n",
        "4  0.368130  0.606492    ...     0.016994  0.018907  0.016642  0.017794   \n",
        "\n",
        "    pi(TGG)   pi(TGT)   pi(TTA)   pi(TTC)   pi(TTG)   pi(TTT)  \n",
        "0  0.013954  0.018922  0.022742  0.015191  0.017548  0.015897  \n",
        "1  0.017521  0.016626  0.016239  0.017026  0.018437  0.012108  \n",
        "2  0.017521  0.016626  0.016239  0.017026  0.018437  0.012108  \n",
        "3  0.016940  0.015530  0.014312  0.018088  0.019304  0.010676  \n",
        "4  0.016940  0.015530  0.014312  0.018088  0.019304  0.010676  \n",
        "\n",
        "[5 rows x 71 columns]"
       ]
      }
     ],
     "prompt_number": 3
    },
    {
     "cell_type": "code",
     "collapsed": false,
     "input": [
      "# The tenth tree from the posterior\n",
      "trees[9].print_plot()"
     ],
     "language": "python",
     "metadata": {},
     "outputs": [
      {
       "output_type": "stream",
       "stream": "stdout",
       "text": [
        "           / FJ898453 DENV2 VirginIsland 2005      \n",
        "  /--------+                                       \n",
        "  |        \\ GQ868549 DENV2 Brazil 2008            \n",
        "  |                                                \n",
        "  | /------- FJ744705 DENV2 Nicaragua 2000         \n",
        "  | |                                              \n",
        "  | |      / FJ898460 DENV2 SaintKitts 2001        \n",
        "  | |     /+                                       \n",
        "  | | /---+\\ EU920836 DENV2 Martinique 2005        \n",
        "  | | |   |                                        \n",
        "  | | |   \\- AF208496 DENV2 Martinique 1998        \n",
        "  | |/+                                            \n",
        " /+/+||/---- EU726775 DENV2 Venezuela 1996         \n",
        " |||||||                                           \n",
        " |||||||   / EU920849 DENV2 Guadeloupe 2006        \n",
        " |||||\\+/--+                                       \n",
        " ||||| ||  \\ FJ898439 DENV2 Mexico 2008            \n",
        " ||||| ||                                          \n",
        " ||||| \\+ /- FJ205885 DENV2 Nicaragua 2008         \n",
        " |||||  |/+                                        \n",
        " |||||  |||/ FJ898461 DENV2 Belize 2002            \n",
        " |||\\+  ||\\+                                       \n",
        " ||| |  \\+ \\ EU920828 DENV2 FrenchGuiana 1993      \n",
        " ||| |   |                                         \n",
        " |\\+ |   |/- AY702039 DENV2 Cuba 1997              \n",
        "/+ | |   \\+                                        \n",
        "|| | |    |/ GQ868553 DENV2 Colombia 1999          \n",
        "|| | |    \\+                                       \n",
        "|| | |     \\ GQ199893 DENV2 Mexico 2002            \n",
        "|| | |                                             \n",
        "|| | |     / GU369819 DENV2 Mexico 2005            \n",
        "|| | |    /+                                       \n",
        "|| | \\----+\\ GQ199895 DENV2 Nicaragua 1999         \n",
        "|| |      |                                        \n",
        "|| |      \\- KJ189305 DENV2 Colombia 2000          \n",
        "|| |                                               \n",
        "|| \\-------- JX669476 DENV2 Brazil 2010            \n",
        "+|                                                 \n",
        "||         / KC294202 DENV2 Peru 2010              \n",
        "|\\---------+                                       \n",
        "|          \\ KC294212 DENV2 Peru 2011              \n",
        "|                                                  \n",
        "|          / GQ199892 DENV2 Jamaica 2007           \n",
        "|        /-+                                       \n",
        "|        | \\ GQ199890 DENV2 Brazil 2008            \n",
        "|       /+                                         \n",
        "|       || / GU131955 DENV2 Mexico 2004            \n",
        "+       ||/+                                       \n",
        "|       |\\+\\ FJ898451 DENV2 DominicanRepublic 2003 \n",
        "|-------+ |                                        \n",
        "|       | \\- EU920829 DENV2 FrenchGuiana 1997      \n",
        "|       |                                          \n",
        "|       |  / JX286517 DENV2 Brazil 2010            \n",
        "|       \\--+                                       \n",
        "|          \\ EU920844 DENV2 FrenchGuiana 2006      \n",
        "|                                                  \n",
        "|----------- EU920838 DENV2 Suriname 2005          \n",
        "|                                                  \n",
        "\\----------- AB122020 DENV2 DominicanRepublic 2001 \n",
        "                                                   \n",
        "                                                   \n"
       ]
      }
     ],
     "prompt_number": 4
    },
    {
     "cell_type": "code",
     "collapsed": false,
     "input": [
      "# The empirical data as a numpy array, which is convenient to calculate \n",
      "# the multinomial likelihood and the chi-squared statistics\n",
      "emp_data"
     ],
     "language": "python",
     "metadata": {},
     "outputs": [
      {
       "metadata": {},
       "output_type": "pyout",
       "prompt_number": 5,
       "text": [
        "array([['a', 't', 'g', ..., 'a', 'g', 'g'],\n",
        "       ['a', 't', 'g', ..., 'a', 'g', 'g'],\n",
        "       ['a', 't', 'g', ..., 'a', 'g', 'g'],\n",
        "       ..., \n",
        "       ['a', 't', 'g', ..., 'a', 'g', 'g'],\n",
        "       ['a', 't', 'g', ..., 'a', 'g', 'g'],\n",
        "       ['a', 't', 'g', ..., 'a', 'g', 'g']], \n",
        "      dtype='|S1')"
       ]
      }
     ],
     "prompt_number": 5
    },
    {
     "cell_type": "markdown",
     "metadata": {},
     "source": [
      "The next step is to store the trees in a format that pyvolve can use to simulate data. We will also obtain the number of sites in the empirical data, which is necessary to simulate the posterior predictive data sets."
     ]
    },
    {
     "cell_type": "code",
     "collapsed": false,
     "input": [
      "trees_list = list()\n",
      "\n",
      "for t in trees:\n",
      "    trees_list.append(re.sub('[[]&U[]]', '', t.as_string('newick')))\n"
     ],
     "language": "python",
     "metadata": {},
     "outputs": [],
     "prompt_number": 6
    },
    {
     "cell_type": "code",
     "collapsed": false,
     "input": [
      "nsites = len(emp_data[0])"
     ],
     "language": "python",
     "metadata": {},
     "outputs": [],
     "prompt_number": 7
    },
    {
     "cell_type": "markdown",
     "metadata": {},
     "source": [
      "The next step is to simulate the posterior predictive data sets, and to calculate the multinomial likelihood and the $\\chi^2$ statistic each time.\n",
      "\n",
      "### Note that this can also be done for the GTR+G nucleotide subsitution mode, as in our paper. In that case, substiture the function *sim_codon* by *sim_gtr* available in *sim_funs.py*"
     ]
    },
    {
     "cell_type": "code",
     "collapsed": false,
     "input": [],
     "language": "python",
     "metadata": {},
     "outputs": []
    },
    {
     "cell_type": "code",
     "collapsed": false,
     "input": [
      "mliks = list()\n",
      "mchis = list()\n",
      "\n",
      "print 'The empirical data have a multinomial likelihod of %s and a chi-squared of %s' %(multlik(emp_data), chisq(emp_data))\n",
      "\n",
      "for i in range(100, params.shape[0]):\n",
      "    params_temp = get_params_codons(params, i)\n",
      "    if i % 50 == 0:\n",
      "        print 'Simulation replicate %s of %s' %(i - 100, params.shape[0] - 100)\n",
      "    sim_temp = sim_codon(params_temp[0], params_temp[1], fix_tree(trees_list[i]), nsites)\n",
      "    mliks.append(multlik(sim_temp))\n",
      "    mchis.append(chisq(sim_temp))\n",
      "    "
     ],
     "language": "python",
     "metadata": {},
     "outputs": [
      {
       "output_type": "stream",
       "stream": "stdout",
       "text": [
        "The empirical data have a multinomial likelihod of -440.835014546 and a chi-squared of 0.835400048937\n",
        "Simulation replicate 0 of 631\n",
        "Simulation replicate 50 of 631"
       ]
      },
      {
       "output_type": "stream",
       "stream": "stdout",
       "text": [
        "\n",
        "Simulation replicate 100 of 631"
       ]
      },
      {
       "output_type": "stream",
       "stream": "stdout",
       "text": [
        "\n",
        "Simulation replicate 150 of 631"
       ]
      },
      {
       "output_type": "stream",
       "stream": "stdout",
       "text": [
        "\n",
        "Simulation replicate 200 of 631"
       ]
      },
      {
       "output_type": "stream",
       "stream": "stdout",
       "text": [
        "\n",
        "Simulation replicate 250 of 631"
       ]
      },
      {
       "output_type": "stream",
       "stream": "stdout",
       "text": [
        "\n",
        "Simulation replicate 300 of 631"
       ]
      },
      {
       "output_type": "stream",
       "stream": "stdout",
       "text": [
        "\n",
        "Simulation replicate 350 of 631"
       ]
      },
      {
       "output_type": "stream",
       "stream": "stdout",
       "text": [
        "\n",
        "Simulation replicate 400 of 631"
       ]
      },
      {
       "output_type": "stream",
       "stream": "stdout",
       "text": [
        "\n",
        "Simulation replicate 450 of 631"
       ]
      },
      {
       "output_type": "stream",
       "stream": "stdout",
       "text": [
        "\n",
        "Simulation replicate 500 of 631"
       ]
      },
      {
       "output_type": "stream",
       "stream": "stdout",
       "text": [
        "\n",
        "Simulation replicate 550 of 631"
       ]
      },
      {
       "output_type": "stream",
       "stream": "stdout",
       "text": [
        "\n",
        "Simulation replicate 600 of 631"
       ]
      },
      {
       "output_type": "stream",
       "stream": "stdout",
       "text": [
        "\n"
       ]
      }
     ],
     "prompt_number": 9
    },
    {
     "cell_type": "code",
     "collapsed": false,
     "input": [
      "fig, axs = plt.subplots(1, 2)\n",
      "\n",
      "emp_ml = multlik(emp_data)\n",
      "emp_chi = chisq(emp_data)\n",
      "\n",
      "axs[0].hist(mliks, alpha = 0.5)\n",
      "axs[0].plot([emp_ml, emp_ml], [0, 100], 'r-', linewidth = 3)\n",
      "axs[0].set_title('Multinomial likelihood')\n",
      "\n",
      "axs[1].hist(mchis, alpha = 0.5)\n",
      "axs[1].plot([emp_chi, emp_chi], [0, 160], 'r-', linewidth = 3)\n",
      "axs[1].set_title('$\\chi^2$')\n",
      "\n",
      "print 'The multinomial likelihood P values is %s' %(np.sum([emp_ml < i for i in mliks]) / float(len(mliks)))\n",
      "print 'The chi-squared P value is %s' %(np.sum([emp_chi < i for i in mchis]) / float(len(mchis)))"
     ],
     "language": "python",
     "metadata": {},
     "outputs": [
      {
       "output_type": "stream",
       "stream": "stdout",
       "text": [
        "The multinomial likelihood P values is 0.307448494453\n",
        "The chi-squared P value is 0.687797147385\n"
       ]
      },
      {
       "metadata": {},
       "output_type": "display_data",
       "png": "[encoded data removed]",
       "text": [
        "<matplotlib.figure.Figure at 0x111fbbbd0>"
       ]
      }
     ],
     "prompt_number": 10
    },
    {
     "cell_type": "markdown",
     "metadata": {},
     "source": [
      "The lines in red correspond to the test statistic for the empirical data. As shown here, this subset of the data appears adequate under the codon model."
     ]
    },
    {
     "cell_type": "code",
     "collapsed": false,
     "input": [],
     "language": "python",
     "metadata": {},
     "outputs": [],
     "prompt_number": 135
    },
    {
     "cell_type": "code",
     "collapsed": false,
     "input": [],
     "language": "python",
     "metadata": {},
     "outputs": []
    }
   ],
   "metadata": {}
  }
 ]
}