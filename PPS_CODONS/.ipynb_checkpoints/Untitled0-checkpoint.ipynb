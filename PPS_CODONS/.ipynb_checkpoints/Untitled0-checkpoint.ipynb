{
 "metadata": {
  "name": "",
  "signature": "sha256:fa862658e9c6e565234951389d3378e0569a90d3d80fbcf3f3b3300f468051db"
 },
 "nbformat": 3,
 "nbformat_minor": 0,
 "worksheets": []
}